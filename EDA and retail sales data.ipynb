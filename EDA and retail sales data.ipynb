{
 "cells": [
  {
   "cell_type": "code",
   "execution_count": 31,
   "id": "7636cea5",
   "metadata": {},
   "outputs": [],
   "source": [
    "import numpy as np\n",
    "import pandas as pd\n",
    "import matplotlib.pyplot as plt\n",
    "import seaborn as sns\n"
   ]
  },
  {
   "cell_type": "markdown",
   "id": "dbc95b38",
   "metadata": {},
   "source": [
    "# 1.load the retail sales dataset"
   ]
  },
  {
   "cell_type": "code",
   "execution_count": 3,
   "id": "78cd5453",
   "metadata": {
    "scrolled": true
   },
   "outputs": [],
   "source": [
    "df=pd.read_csv(\"menu[1].csv\")"
   ]
  },
  {
   "cell_type": "code",
   "execution_count": 4,
   "id": "021cf661",
   "metadata": {
    "scrolled": true
   },
   "outputs": [
    {
     "data": {
      "text/html": [
       "<div>\n",
       "<style scoped>\n",
       "    .dataframe tbody tr th:only-of-type {\n",
       "        vertical-align: middle;\n",
       "    }\n",
       "\n",
       "    .dataframe tbody tr th {\n",
       "        vertical-align: top;\n",
       "    }\n",
       "\n",
       "    .dataframe thead th {\n",
       "        text-align: right;\n",
       "    }\n",
       "</style>\n",
       "<table border=\"1\" class=\"dataframe\">\n",
       "  <thead>\n",
       "    <tr style=\"text-align: right;\">\n",
       "      <th></th>\n",
       "      <th>Category</th>\n",
       "      <th>Item</th>\n",
       "      <th>Serving Size</th>\n",
       "      <th>Calories</th>\n",
       "      <th>Calories from Fat</th>\n",
       "      <th>Total Fat</th>\n",
       "      <th>Total Fat (% Daily Value)</th>\n",
       "      <th>Saturated Fat</th>\n",
       "      <th>Saturated Fat (% Daily Value)</th>\n",
       "      <th>Trans Fat</th>\n",
       "      <th>...</th>\n",
       "      <th>Carbohydrates</th>\n",
       "      <th>Carbohydrates (% Daily Value)</th>\n",
       "      <th>Dietary Fiber</th>\n",
       "      <th>Dietary Fiber (% Daily Value)</th>\n",
       "      <th>Sugars</th>\n",
       "      <th>Protein</th>\n",
       "      <th>Vitamin A (% Daily Value)</th>\n",
       "      <th>Vitamin C (% Daily Value)</th>\n",
       "      <th>Calcium (% Daily Value)</th>\n",
       "      <th>Iron (% Daily Value)</th>\n",
       "    </tr>\n",
       "  </thead>\n",
       "  <tbody>\n",
       "    <tr>\n",
       "      <th>0</th>\n",
       "      <td>Breakfast</td>\n",
       "      <td>Egg McMuffin</td>\n",
       "      <td>4.8 oz (136 g)</td>\n",
       "      <td>300</td>\n",
       "      <td>120</td>\n",
       "      <td>13.0</td>\n",
       "      <td>20</td>\n",
       "      <td>5.0</td>\n",
       "      <td>25</td>\n",
       "      <td>0.0</td>\n",
       "      <td>...</td>\n",
       "      <td>31</td>\n",
       "      <td>10</td>\n",
       "      <td>4</td>\n",
       "      <td>17</td>\n",
       "      <td>3</td>\n",
       "      <td>17</td>\n",
       "      <td>10</td>\n",
       "      <td>0</td>\n",
       "      <td>25</td>\n",
       "      <td>15</td>\n",
       "    </tr>\n",
       "    <tr>\n",
       "      <th>1</th>\n",
       "      <td>Breakfast</td>\n",
       "      <td>Egg White Delight</td>\n",
       "      <td>4.8 oz (135 g)</td>\n",
       "      <td>250</td>\n",
       "      <td>70</td>\n",
       "      <td>8.0</td>\n",
       "      <td>12</td>\n",
       "      <td>3.0</td>\n",
       "      <td>15</td>\n",
       "      <td>0.0</td>\n",
       "      <td>...</td>\n",
       "      <td>30</td>\n",
       "      <td>10</td>\n",
       "      <td>4</td>\n",
       "      <td>17</td>\n",
       "      <td>3</td>\n",
       "      <td>18</td>\n",
       "      <td>6</td>\n",
       "      <td>0</td>\n",
       "      <td>25</td>\n",
       "      <td>8</td>\n",
       "    </tr>\n",
       "    <tr>\n",
       "      <th>2</th>\n",
       "      <td>Breakfast</td>\n",
       "      <td>Sausage McMuffin</td>\n",
       "      <td>3.9 oz (111 g)</td>\n",
       "      <td>370</td>\n",
       "      <td>200</td>\n",
       "      <td>23.0</td>\n",
       "      <td>35</td>\n",
       "      <td>8.0</td>\n",
       "      <td>42</td>\n",
       "      <td>0.0</td>\n",
       "      <td>...</td>\n",
       "      <td>29</td>\n",
       "      <td>10</td>\n",
       "      <td>4</td>\n",
       "      <td>17</td>\n",
       "      <td>2</td>\n",
       "      <td>14</td>\n",
       "      <td>8</td>\n",
       "      <td>0</td>\n",
       "      <td>25</td>\n",
       "      <td>10</td>\n",
       "    </tr>\n",
       "    <tr>\n",
       "      <th>3</th>\n",
       "      <td>Breakfast</td>\n",
       "      <td>Sausage McMuffin with Egg</td>\n",
       "      <td>5.7 oz (161 g)</td>\n",
       "      <td>450</td>\n",
       "      <td>250</td>\n",
       "      <td>28.0</td>\n",
       "      <td>43</td>\n",
       "      <td>10.0</td>\n",
       "      <td>52</td>\n",
       "      <td>0.0</td>\n",
       "      <td>...</td>\n",
       "      <td>30</td>\n",
       "      <td>10</td>\n",
       "      <td>4</td>\n",
       "      <td>17</td>\n",
       "      <td>2</td>\n",
       "      <td>21</td>\n",
       "      <td>15</td>\n",
       "      <td>0</td>\n",
       "      <td>30</td>\n",
       "      <td>15</td>\n",
       "    </tr>\n",
       "    <tr>\n",
       "      <th>4</th>\n",
       "      <td>Breakfast</td>\n",
       "      <td>Sausage McMuffin with Egg Whites</td>\n",
       "      <td>5.7 oz (161 g)</td>\n",
       "      <td>400</td>\n",
       "      <td>210</td>\n",
       "      <td>23.0</td>\n",
       "      <td>35</td>\n",
       "      <td>8.0</td>\n",
       "      <td>42</td>\n",
       "      <td>0.0</td>\n",
       "      <td>...</td>\n",
       "      <td>30</td>\n",
       "      <td>10</td>\n",
       "      <td>4</td>\n",
       "      <td>17</td>\n",
       "      <td>2</td>\n",
       "      <td>21</td>\n",
       "      <td>6</td>\n",
       "      <td>0</td>\n",
       "      <td>25</td>\n",
       "      <td>10</td>\n",
       "    </tr>\n",
       "  </tbody>\n",
       "</table>\n",
       "<p>5 rows × 24 columns</p>\n",
       "</div>"
      ],
      "text/plain": [
       "    Category                              Item    Serving Size  Calories  \\\n",
       "0  Breakfast                      Egg McMuffin  4.8 oz (136 g)       300   \n",
       "1  Breakfast                 Egg White Delight  4.8 oz (135 g)       250   \n",
       "2  Breakfast                  Sausage McMuffin  3.9 oz (111 g)       370   \n",
       "3  Breakfast         Sausage McMuffin with Egg  5.7 oz (161 g)       450   \n",
       "4  Breakfast  Sausage McMuffin with Egg Whites  5.7 oz (161 g)       400   \n",
       "\n",
       "   Calories from Fat  Total Fat  Total Fat (% Daily Value)  Saturated Fat  \\\n",
       "0                120       13.0                         20            5.0   \n",
       "1                 70        8.0                         12            3.0   \n",
       "2                200       23.0                         35            8.0   \n",
       "3                250       28.0                         43           10.0   \n",
       "4                210       23.0                         35            8.0   \n",
       "\n",
       "   Saturated Fat (% Daily Value)  Trans Fat  ...  Carbohydrates  \\\n",
       "0                             25        0.0  ...             31   \n",
       "1                             15        0.0  ...             30   \n",
       "2                             42        0.0  ...             29   \n",
       "3                             52        0.0  ...             30   \n",
       "4                             42        0.0  ...             30   \n",
       "\n",
       "   Carbohydrates (% Daily Value)  Dietary Fiber  \\\n",
       "0                             10              4   \n",
       "1                             10              4   \n",
       "2                             10              4   \n",
       "3                             10              4   \n",
       "4                             10              4   \n",
       "\n",
       "   Dietary Fiber (% Daily Value)  Sugars  Protein  Vitamin A (% Daily Value)  \\\n",
       "0                             17       3       17                         10   \n",
       "1                             17       3       18                          6   \n",
       "2                             17       2       14                          8   \n",
       "3                             17       2       21                         15   \n",
       "4                             17       2       21                          6   \n",
       "\n",
       "   Vitamin C (% Daily Value)  Calcium (% Daily Value)  Iron (% Daily Value)  \n",
       "0                          0                       25                    15  \n",
       "1                          0                       25                     8  \n",
       "2                          0                       25                    10  \n",
       "3                          0                       30                    15  \n",
       "4                          0                       25                    10  \n",
       "\n",
       "[5 rows x 24 columns]"
      ]
     },
     "execution_count": 4,
     "metadata": {},
     "output_type": "execute_result"
    }
   ],
   "source": [
    "df.head()"
   ]
  },
  {
   "cell_type": "markdown",
   "id": "5f3f960f",
   "metadata": {},
   "source": [
    "# 2.: Calculate basic statistics (mean, median, mode, standard deviation)"
   ]
  },
  {
   "cell_type": "code",
   "execution_count": 8,
   "id": "ffcd9447",
   "metadata": {},
   "outputs": [
    {
     "name": "stdout",
     "output_type": "stream",
     "text": [
      "          Calories  Calories from Fat   Total Fat  Total Fat (% Daily Value)  \\\n",
      "count   260.000000         260.000000  260.000000                 260.000000   \n",
      "mean    368.269231         127.096154   14.165385                  21.815385   \n",
      "std     240.269886         127.875914   14.205998                  21.885199   \n",
      "min       0.000000           0.000000    0.000000                   0.000000   \n",
      "25%     210.000000          20.000000    2.375000                   3.750000   \n",
      "50%     340.000000         100.000000   11.000000                  17.000000   \n",
      "75%     500.000000         200.000000   22.250000                  35.000000   \n",
      "max    1880.000000        1060.000000  118.000000                 182.000000   \n",
      "\n",
      "       Saturated Fat  Saturated Fat (% Daily Value)   Trans Fat  Cholesterol  \\\n",
      "count     260.000000                     260.000000  260.000000   260.000000   \n",
      "mean        6.007692                      29.965385    0.203846    54.942308   \n",
      "std         5.321873                      26.639209    0.429133    87.269257   \n",
      "min         0.000000                       0.000000    0.000000     0.000000   \n",
      "25%         1.000000                       4.750000    0.000000     5.000000   \n",
      "50%         5.000000                      24.000000    0.000000    35.000000   \n",
      "75%        10.000000                      48.000000    0.000000    65.000000   \n",
      "max        20.000000                     102.000000    2.500000   575.000000   \n",
      "\n",
      "       Cholesterol (% Daily Value)       Sodium  ...  Carbohydrates  \\\n",
      "count                   260.000000   260.000000  ...     260.000000   \n",
      "mean                     18.392308   495.750000  ...      47.346154   \n",
      "std                      29.091653   577.026323  ...      28.252232   \n",
      "min                       0.000000     0.000000  ...       0.000000   \n",
      "25%                       2.000000   107.500000  ...      30.000000   \n",
      "50%                      11.000000   190.000000  ...      44.000000   \n",
      "75%                      21.250000   865.000000  ...      60.000000   \n",
      "max                     192.000000  3600.000000  ...     141.000000   \n",
      "\n",
      "       Carbohydrates (% Daily Value)  Dietary Fiber  \\\n",
      "count                     260.000000     260.000000   \n",
      "mean                       15.780769       1.630769   \n",
      "std                         9.419544       1.567717   \n",
      "min                         0.000000       0.000000   \n",
      "25%                        10.000000       0.000000   \n",
      "50%                        15.000000       1.000000   \n",
      "75%                        20.000000       3.000000   \n",
      "max                        47.000000       7.000000   \n",
      "\n",
      "       Dietary Fiber (% Daily Value)      Sugars     Protein  \\\n",
      "count                     260.000000  260.000000  260.000000   \n",
      "mean                        6.530769   29.423077   13.338462   \n",
      "std                         6.307057   28.679797   11.426146   \n",
      "min                         0.000000    0.000000    0.000000   \n",
      "25%                         0.000000    5.750000    4.000000   \n",
      "50%                         5.000000   17.500000   12.000000   \n",
      "75%                        10.000000   48.000000   19.000000   \n",
      "max                        28.000000  128.000000   87.000000   \n",
      "\n",
      "       Vitamin A (% Daily Value)  Vitamin C (% Daily Value)  \\\n",
      "count                 260.000000                 260.000000   \n",
      "mean                   13.426923                   8.534615   \n",
      "std                    24.366381                  26.345542   \n",
      "min                     0.000000                   0.000000   \n",
      "25%                     2.000000                   0.000000   \n",
      "50%                     8.000000                   0.000000   \n",
      "75%                    15.000000                   4.000000   \n",
      "max                   170.000000                 240.000000   \n",
      "\n",
      "       Calcium (% Daily Value)  Iron (% Daily Value)  \n",
      "count               260.000000            260.000000  \n",
      "mean                 20.973077              7.734615  \n",
      "std                  17.019953              8.723263  \n",
      "min                   0.000000              0.000000  \n",
      "25%                   6.000000              0.000000  \n",
      "50%                  20.000000              4.000000  \n",
      "75%                  30.000000             15.000000  \n",
      "max                  70.000000             40.000000  \n",
      "\n",
      "[8 rows x 21 columns]\n"
     ]
    }
   ],
   "source": [
    "print(df.describe())"
   ]
  },
  {
   "cell_type": "code",
   "execution_count": 6,
   "id": "60fa1604",
   "metadata": {},
   "outputs": [
    {
     "name": "stdout",
     "output_type": "stream",
     "text": [
      "count     260.000000\n",
      "mean      127.096154\n",
      "std       127.875914\n",
      "min         0.000000\n",
      "25%        20.000000\n",
      "50%       100.000000\n",
      "75%       200.000000\n",
      "max      1060.000000\n",
      "Name: Calories from Fat, dtype: float64\n"
     ]
    }
   ],
   "source": [
    "print(df['Calories from Fat'].describe())"
   ]
  },
  {
   "cell_type": "markdown",
   "id": "51c8571f",
   "metadata": {},
   "source": [
    "# 3.Time Series Analysis: Analyze sales trends over time using time series techniques"
   ]
  },
  {
   "cell_type": "code",
   "execution_count": 16,
   "id": "2e144f50",
   "metadata": {},
   "outputs": [
    {
     "name": "stdout",
     "output_type": "stream",
     "text": [
      "Category\n",
      "Chicken & Fish        552.962963\n",
      "Smoothies & Shakes    531.428571\n",
      "Breakfast             526.666667\n",
      "Beef & Pork           494.000000\n",
      "Coffee & Tea          283.894737\n",
      "Salads                270.000000\n",
      "Snacks & Sides        245.769231\n",
      "Desserts              222.142857\n",
      "Beverages             113.703704\n",
      "Name: Calories, dtype: float64\n"
     ]
    }
   ],
   "source": [
    "nutriton_categorized = df.groupby('Category')['Calories'].mean()\n",
    "print(nutriton_categorized.sort_values(ascending=False))"
   ]
  },
  {
   "cell_type": "markdown",
   "id": "1f792bba",
   "metadata": {},
   "source": [
    "# 4.Customer and Product Analysis: Analyze customer demographics and purchasing behavior."
   ]
  },
  {
   "cell_type": "code",
   "execution_count": 21,
   "id": "431bd16d",
   "metadata": {},
   "outputs": [
    {
     "name": "stdout",
     "output_type": "stream",
     "text": [
      "                                                  Item  Protein\n",
      "82                        Chicken McNuggets (40 piece)       87\n",
      "47                  Double Quarter Pounder with Cheese       48\n",
      "81                        Chicken McNuggets (20 piece)       44\n",
      "64            Bacon Clubhouse Grilled Chicken Sandwich       40\n",
      "60               Premium Grilled Chicken Club Sandwich       40\n",
      "51                              Bacon Clubhouse Burger       39\n",
      "45           Quarter Pounder with Bacon Habanero Ranch       37\n",
      "44                 Quarter Pounder with Bacon & Cheese       37\n",
      "32         Big Breakfast with Hotcakes (Large Biscuit)       36\n",
      "62          Premium Grilled Chicken Ranch BLT Sandwich       36\n",
      "63             Bacon Clubhouse Crispy Chicken Sandwich       36\n",
      "71    Premium McWrap Chicken & Bacon (Grilled Chicken)       36\n",
      "59                Premium Crispy Chicken Club Sandwich       36\n",
      "31       Big Breakfast with Hotcakes (Regular Biscuit)       36\n",
      "33   Big Breakfast with Hotcakes and Egg Whites (Re...       35\n",
      "34   Big Breakfast with Hotcakes and Egg Whites (La...       35\n",
      "26                           Steak, Egg & Cheese Bagel       33\n",
      "70     Premium McWrap Chicken & Bacon (Crispy Chicken)       32\n",
      "61           Premium Crispy Chicken Ranch BLT Sandwich       32\n",
      "75   Premium McWrap Southwest Chicken (Grilled Chic...       31\n",
      "43                         Quarter Pounder with Cheese       30\n",
      "73    Premium McWrap Chicken & Ranch (Grilled Chicken)       30\n",
      "25           Bacon, Egg & Cheese Bagel with Egg Whites       30\n",
      "24                           Bacon, Egg & Cheese Bagel       30\n",
      "46                              Quarter Pounder Deluxe       29\n",
      "86      Premium Bacon Ranch Salad with Grilled Chicken       29\n",
      "28                       Big Breakfast (Large Biscuit)       28\n",
      "27                     Big Breakfast (Regular Biscuit)       28\n",
      "58            Premium Grilled Chicken Classic Sandwich       28\n",
      "74   Premium McWrap Southwest Chicken (Crispy Chicken)       27\n",
      "77   Premium McWrap Chicken Sweet Chili (Grilled Ch...       27\n",
      "72     Premium McWrap Chicken & Ranch (Crispy Chicken)       27\n",
      "53                                      Bacon McDouble       27\n",
      "89        Premium Southwest Salad with Grilled Chicken       27\n",
      "30       Big Breakfast with Egg Whites (Large Biscuit)       26\n",
      "5                                 Steak & Egg McMuffin       26\n",
      "29     Big Breakfast with Egg Whites (Regular Biscuit)       26\n",
      "18               Steak & Egg Biscuit (Regular Biscuit)       25\n",
      "85       Premium Bacon Ranch Salad with Crispy Chicken       25\n",
      "57             Premium Crispy Chicken Classic Sandwich       24\n",
      "42                                             Big Mac       24\n",
      "50                                 Double Cheeseburger       24\n",
      "76   Premium McWrap Chicken Sweet Chili (Crispy Chi...       23\n",
      "88         Premium Southwest Salad with Crispy Chicken       23\n",
      "56                                               McRib       22\n",
      "52                                            McDouble       22\n",
      "67                             Bacon Cheddar McChicken       22\n",
      "54                                        Daily Double       22\n",
      "80                        Chicken McNuggets (10 piece)       22\n",
      "55                                     Jalapeño Double       22\n",
      "3                            Sausage McMuffin with Egg       21\n",
      "65              Southern Style Crispy Chicken Sandwich       21\n",
      "4                     Sausage McMuffin with Egg Whites       21\n",
      "23    Sausage, Egg & Cheese McGriddles with Egg Whites       21\n",
      "258  McFlurry with Reese's Peanut Butter Cups (Medium)       21\n"
     ]
    }
   ],
   "source": [
    "high_protein = df[df['Protein']>20].sort_values('Protein',ascending=False)\n",
    "print(high_protein[['Item','Protein']])"
   ]
  },
  {
   "cell_type": "code",
   "execution_count": 26,
   "id": "3f35c0e1",
   "metadata": {},
   "outputs": [
    {
     "name": "stdout",
     "output_type": "stream",
     "text": [
      "                                             Item  Calories\n",
      "125                        Diet Dr Pepper (Child)         0\n",
      "124                        Diet Dr Pepper (Large)         0\n",
      "137                              Iced Tea (Small)         0\n",
      "138                             Iced Tea (Medium)         0\n",
      "139                              Iced Tea (Large)         0\n",
      "..                                            ...       ...\n",
      "215          Iced Mocha with Nonfat Milk (Medium)       290\n",
      "49                                   Cheeseburger       290\n",
      "40                          Fruit & Maple Oatmeal       290\n",
      "211                            Iced Mocha (Small)       290\n",
      "89   Premium Southwest Salad with Grilled Chicken       290\n",
      "\n",
      "[113 rows x 2 columns]\n"
     ]
    }
   ],
   "source": [
    "low_calorie = df[df['Calories']<300].sort_values('Calories')\n",
    "print(low_calorie[['Item','Calories']])"
   ]
  },
  {
   "cell_type": "markdown",
   "id": "a3ef9a6b",
   "metadata": {},
   "source": [
    "# 5.Visualization: Present insights through bar charts, line plots, and heatmaps.\n"
   ]
  },
  {
   "cell_type": "code",
   "execution_count": 32,
   "id": "e43b95b1",
   "metadata": {},
   "outputs": [
    {
     "data": {
      "image/png": "[encoded data removed]",
      "text/plain": [
       "<Figure size 640x480 with 1 Axes>"
      ]
     },
     "metadata": {},
     "output_type": "display_data"
    }
   ],
   "source": [
    "sns.histplot(df['Calories from Fat'],bins=20,kde=True)\n",
    "plt.title('Distribution of calories across the mcd menu')\n",
    "plt.xlabel('Calories')\n",
    "plt.ylabel('Frequency')\n",
    "plt.show()\n"
   ]
  },
  {
   "cell_type": "code",
   "execution_count": 34,
   "id": "0983d476",
   "metadata": {},
   "outputs": [
    {
     "data": {
      "image/png": "[encoded data removed]",
      "text/plain": [
       "<Figure size 640x480 with 1 Axes>"
      ]
     },
     "metadata": {},
     "output_type": "display_data"
    }
   ],
   "source": [
    "sns.barplot(x=nutriton_categorized.values,y=nutriton_categorized.index)\n",
    "plt.title('average calories by category in menu')\n",
    "plt.xlabel('average calories')\n",
    "plt.ylabel('category')\n",
    "plt.show()"
   ]
  },
  {
   "cell_type": "markdown",
   "id": "a01cb223",
   "metadata": {},
   "source": [
    "# 6.Recommendations: Provide actionable recommendations based on the EDA."
   ]
  },
  {
   "cell_type": "markdown",
   "id": "c7bae650",
   "metadata": {},
   "source": [
    "Recommend categories with low average calories and high nutrition for every customer who want healthier food.\n",
    "\n",
    "\n",
    "Promote items that are in high protein."
   ]
  },
  {
   "cell_type": "code",
   "execution_count": null,
   "id": "4888b5ae",
   "metadata": {},
   "outputs": [],
   "source": []
  },
  {
   "cell_type": "code",
   "execution_count": null,
   "id": "ff0b78dc",
   "metadata": {},
   "outputs": [],
   "source": []
  },
  {
   "cell_type": "code",
   "execution_count": null,
   "id": "bc7c51b0",
   "metadata": {},
   "outputs": [],
   "source": []
  },
  {
   "cell_type": "code",
   "execution_count": null,
   "id": "606a68df",
   "metadata": {},
   "outputs": [],
   "source": []
  }
 ],
 "metadata": {
  "kernelspec": {
   "display_name": "Python 3 (ipykernel)",
   "language": "python",
   "name": "python3"
  },
  "language_info": {
   "codemirror_mode": {
    "name": "ipython",
    "version": 3
   },
   "file_extension": ".py",
   "mimetype": "text/x-python",
   "name": "python",
   "nbconvert_exporter": "python",
   "pygments_lexer": "ipython3",
   "version": "3.11.5"
  }
 },
 "nbformat": 4,
 "nbformat_minor": 5
}
